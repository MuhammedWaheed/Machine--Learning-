{
 "cells": [
  {
   "cell_type": "markdown",
   "id": "bd70da61",
   "metadata": {},
   "source": [
    "# import libraries"
   ]
  },
  {
   "cell_type": "code",
   "execution_count": 1,
   "id": "5569377f",
   "metadata": {},
   "outputs": [],
   "source": [
    "from tensorflow.keras.datasets import mnist\n",
    "from tensorflow.keras.models  import Sequential\n",
    "from tensorflow.keras.layers import Conv2D, Activation, Dropout, Dense, MaxPooling2D, Flatten\n",
    "from tensorflow.keras.optimizers import SGD, Adam, Adadelta\n",
    "import numpy as np\n",
    "import tensorflow as tf\n",
    "import keras\n",
    "from keras.datasets import cifar10"
   ]
  },
  {
   "cell_type": "markdown",
   "id": "242c964e",
   "metadata": {},
   "source": [
    "# splitting data"
   ]
  },
  {
   "cell_type": "code",
   "execution_count": 2,
   "id": "611a234b",
   "metadata": {},
   "outputs": [
    {
     "name": "stdout",
     "output_type": "stream",
     "text": [
      "(50000, 32, 32, 3)\n",
      "(50000, 32, 32, 3)\n",
      "(10000, 32, 32, 3)\n",
      "(32, 32, 3)\n"
     ]
    }
   ],
   "source": [
    "(x_train, y_train), (x_test, y_test) = cifar10.load_data()\n",
    "print(x_train.shape)\n",
    "image_size=32\n",
    "x_train=np.array(x_train).reshape(-1, image_size ,image_size ,3)\n",
    "x_test=np.array(x_test).reshape(-1, image_size ,image_size ,3)\n",
    "#scale image =3 channel and all the data are scale\n",
    "print(x_train.shape)\n",
    "print(x_test.shape)\n",
    "x_train,x_test=x_train/255.0 , x_test/255.0\n",
    "print(x_train.shape[1:])"
   ]
  },
  {
   "cell_type": "markdown",
   "id": "68fb8af2",
   "metadata": {},
   "source": [
    "# AlexNet Model"
   ]
  },
  {
   "cell_type": "code",
   "execution_count": 3,
   "id": "b4581381",
   "metadata": {},
   "outputs": [
    {
     "name": "stdout",
     "output_type": "stream",
     "text": [
      "Model: \"sequential\"\n",
      "_________________________________________________________________\n",
      " Layer (type)                Output Shape              Param #   \n",
      "=================================================================\n",
      " conv2d (Conv2D)             (None, 8, 8, 96)          34944     \n",
      "                                                                 \n",
      " activation (Activation)     (None, 8, 8, 96)          0         \n",
      "                                                                 \n",
      " max_pooling2d (MaxPooling2D  (None, 4, 4, 96)         0         \n",
      " )                                                               \n",
      "                                                                 \n",
      " conv2d_1 (Conv2D)           (None, 4, 4, 256)         614656    \n",
      "                                                                 \n",
      " activation_1 (Activation)   (None, 4, 4, 256)         0         \n",
      "                                                                 \n",
      " max_pooling2d_1 (MaxPooling  (None, 2, 2, 256)        0         \n",
      " 2D)                                                             \n",
      "                                                                 \n",
      " conv2d_2 (Conv2D)           (None, 2, 2, 384)         885120    \n",
      "                                                                 \n",
      " activation_2 (Activation)   (None, 2, 2, 384)         0         \n",
      "                                                                 \n",
      " conv2d_3 (Conv2D)           (None, 2, 2, 384)         1327488   \n",
      "                                                                 \n",
      " activation_3 (Activation)   (None, 2, 2, 384)         0         \n",
      "                                                                 \n",
      " conv2d_4 (Conv2D)           (None, 2, 2, 256)         884992    \n",
      "                                                                 \n",
      " activation_4 (Activation)   (None, 2, 2, 256)         0         \n",
      "                                                                 \n",
      " max_pooling2d_2 (MaxPooling  (None, 1, 1, 256)        0         \n",
      " 2D)                                                             \n",
      "                                                                 \n",
      " flatten (Flatten)           (None, 256)               0         \n",
      "                                                                 \n",
      " dense (Dense)               (None, 4096)              1052672   \n",
      "                                                                 \n",
      " activation_5 (Activation)   (None, 4096)              0         \n",
      "                                                                 \n",
      " dropout (Dropout)           (None, 4096)              0         \n",
      "                                                                 \n",
      " dense_1 (Dense)             (None, 4096)              16781312  \n",
      "                                                                 \n",
      " activation_6 (Activation)   (None, 4096)              0         \n",
      "                                                                 \n",
      " dropout_1 (Dropout)         (None, 4096)              0         \n",
      "                                                                 \n",
      " dense_2 (Dense)             (None, 1000)              4097000   \n",
      "                                                                 \n",
      " activation_7 (Activation)   (None, 1000)              0         \n",
      "                                                                 \n",
      " dropout_2 (Dropout)         (None, 1000)              0         \n",
      "                                                                 \n",
      " output (Dense)              (None, 10)                10010     \n",
      "                                                                 \n",
      "=================================================================\n",
      "Total params: 25,688,194\n",
      "Trainable params: 25,688,194\n",
      "Non-trainable params: 0\n",
      "_________________________________________________________________\n"
     ]
    }
   ],
   "source": [
    "# 5 Convolution layer and 3 fully connected \n",
    "\n",
    "AlexNet = Sequential()\n",
    "\n",
    "#1st Convolutional Layer\n",
    "AlexNet.add(Conv2D(filters=96, input_shape= x_train.shape[1:], kernel_size=(11,11), strides=(4,4), padding='same'))\n",
    "AlexNet.add(Activation('relu'))\n",
    "AlexNet.add(MaxPooling2D(pool_size=(2,2), strides=(2,2), padding='same'))\n",
    "\n",
    "#2nd Convolutional Layer\n",
    "AlexNet.add(Conv2D(filters=256, kernel_size=(5, 5), strides=(1,1), padding='same'))\n",
    "AlexNet.add(Activation('relu'))\n",
    "AlexNet.add(MaxPooling2D(pool_size=(2,2), strides=(2,2), padding='same'))\n",
    "\n",
    "#3rd Convolutional Layer\n",
    "AlexNet.add(Conv2D(filters=384, kernel_size=(3,3), strides=(1,1), padding='same'))\n",
    "AlexNet.add(Activation('relu'))\n",
    "\n",
    "#4th Convolutional Layer\n",
    "AlexNet.add(Conv2D(filters=384, kernel_size=(3,3), strides=(1,1), padding='same'))\n",
    "AlexNet.add(Activation('relu'))\n",
    "\n",
    "#5th Convolutional Layer\n",
    "AlexNet.add(Conv2D(filters=256, kernel_size=(3,3), strides=(1,1), padding='same'))\n",
    "AlexNet.add(Activation('relu'))\n",
    "AlexNet.add(MaxPooling2D(pool_size=(2,2), strides=(2,2), padding='same'))\n",
    "\n",
    "#Passing it to a Fully Connected layer\n",
    "AlexNet.add(Flatten())\n",
    "# 1st Fully Connected Layer\n",
    "AlexNet.add(Dense(4096))\n",
    "AlexNet.add(Activation('relu'))\n",
    "# Add Dropout to prevent overfitting\n",
    "AlexNet.add(Dropout(0.4))\n",
    "\n",
    "#2nd Fully Connected Layer\n",
    "AlexNet.add(Dense(4096))\n",
    "AlexNet.add(Activation('relu'))\n",
    "#Add Dropout\n",
    "AlexNet.add(Dropout(0.4))\n",
    "\n",
    "# 3rd Fully Connected Layer\n",
    "AlexNet.add(Dense(1000))\n",
    "AlexNet.add(Activation('relu'))\n",
    "#Add Dropout\n",
    "AlexNet.add(Dropout(0.4))\n",
    "\n",
    "#Output Layer\n",
    "AlexNet.add(Dense(10, activation='softmax', name='output'))\n",
    "\n",
    "#Model Summary\n",
    "AlexNet.summary()\n"
   ]
  },
  {
   "cell_type": "code",
   "execution_count": 4,
   "id": "c86bafab",
   "metadata": {},
   "outputs": [
    {
     "name": "stdout",
     "output_type": "stream",
     "text": [
      "Epoch 1/5\n",
      "2500/2500 [==============================] - 337s 134ms/step - loss: 2.0716 - accuracy: 0.2050\n",
      "Epoch 2/5\n",
      "2500/2500 [==============================] - 339s 136ms/step - loss: 1.6527 - accuracy: 0.3883\n",
      "Epoch 3/5\n",
      "2500/2500 [==============================] - 366s 146ms/step - loss: 1.4321 - accuracy: 0.4828\n",
      "Epoch 4/5\n",
      "2500/2500 [==============================] - 376s 150ms/step - loss: 1.2934 - accuracy: 0.5373\n",
      "Epoch 5/5\n",
      "2500/2500 [==============================] - 374s 150ms/step - loss: 1.1835 - accuracy: 0.5824\n",
      "313/313 [==============================] - 6s 19ms/step - loss: 1.2109 - accuracy: 0.5762\n",
      "the Accuracy = 95.6200008392334\n"
     ]
    }
   ],
   "source": [
    "optimize = SGD(learning_rate=0.05)\n",
    "AlexNet.compile(optimizer=optimize, loss=\"sparse_categorical_crossentropy\", metrics=[\"accuracy\"])\n",
    "AlexNet.fit(x_train, y_train, epochs=5 ,batch_size=20)\n",
    "loss, accuracy= AlexNet.evaluate(x_test, y_test)\n",
    "print( 'the Accuracy =' , accuracy*100)"
   ]
  },
  {
   "cell_type": "markdown",
   "id": "0c986223",
   "metadata": {},
   "source": [
    "# Prediction for AlexNet"
   ]
  },
  {
   "cell_type": "code",
   "execution_count": 5,
   "id": "4d072a4f",
   "metadata": {},
   "outputs": [
    {
     "name": "stdout",
     "output_type": "stream",
     "text": [
      "313/313 [==============================] - 6s 20ms/step\n"
     ]
    },
    {
     "data": {
      "text/plain": [
       "array([[1.4927943e-02, 2.1470008e-02, 4.1298833e-02, ..., 3.3384856e-02,\n",
       "        3.4973290e-02, 2.7065877e-02],\n",
       "       [4.2398870e-02, 4.6362948e-02, 1.2835080e-04, ..., 5.5462671e-05,\n",
       "        8.8961482e-01, 2.1169465e-02],\n",
       "       [2.1539201e-01, 1.0836257e-02, 3.1462056e-03, ..., 9.2721323e-04,\n",
       "        7.4340898e-01, 2.0134624e-02],\n",
       "       ...,\n",
       "       [3.3589124e-04, 6.8375584e-06, 9.2258073e-02, ..., 1.1019549e-02,\n",
       "        4.7673690e-05, 3.8462571e-05],\n",
       "       [3.8794920e-02, 8.2279164e-03, 2.1727961e-01, ..., 7.3652178e-02,\n",
       "        1.1018097e-02, 9.7554130e-03],\n",
       "       [3.4476838e-03, 8.1933336e-04, 2.2828050e-02, ..., 5.5747831e-01,\n",
       "        3.4250107e-04, 3.2504816e-03]], dtype=float32)"
      ]
     },
     "execution_count": 5,
     "metadata": {},
     "output_type": "execute_result"
    }
   ],
   "source": [
    "y_pred=AlexNet.predict(x_test)\n",
    "y_pre=np.argmax(y_pred,axis=1)\n",
    "y_pred\n",
    "     "
   ]
  },
  {
   "cell_type": "markdown",
   "id": "874ca8f8",
   "metadata": {},
   "source": [
    "# Classification_report for AlexNet"
   ]
  },
  {
   "cell_type": "code",
   "execution_count": 6,
   "id": "b445ab15",
   "metadata": {},
   "outputs": [
    {
     "name": "stdout",
     "output_type": "stream",
     "text": [
      "              precision    recall  f1-score   support\n",
      "\n",
      "           0       0.66      0.67      0.66      1000\n",
      "           1       0.73      0.67      0.70      1000\n",
      "           2       0.58      0.31      0.40      1000\n",
      "           3       0.35      0.41      0.38      1000\n",
      "           4       0.45      0.56      0.50      1000\n",
      "           5       0.55      0.40      0.47      1000\n",
      "           6       0.54      0.77      0.63      1000\n",
      "           7       0.68      0.69      0.68      1000\n",
      "           8       0.60      0.80      0.68      1000\n",
      "           9       0.78      0.50      0.61      1000\n",
      "\n",
      "    accuracy                           0.58     10000\n",
      "   macro avg       0.59      0.58      0.57     10000\n",
      "weighted avg       0.59      0.58      0.57     10000\n",
      "\n"
     ]
    }
   ],
   "source": [
    "from sklearn.metrics import f1_score,confusion_matrix,recall_score,precision_score\n",
    "from sklearn.metrics import classification_report\n",
    "print(classification_report(y_test,y_pre))\n",
    "     "
   ]
  },
  {
   "cell_type": "markdown",
   "id": "8b02ce98",
   "metadata": {},
   "source": [
    "# Confusion_matrix for AlexNet"
   ]
  },
  {
   "cell_type": "code",
   "execution_count": 7,
   "id": "dc0c0ed0",
   "metadata": {},
   "outputs": [
    {
     "name": "stdout",
     "output_type": "stream",
     "text": [
      "[[666   8  35  30  35   3  24  15 172  12]\n",
      " [ 49 668   1  30  12   1  27  19 115  78]\n",
      " [ 85  13 311 118 220  54 120  39  30  10]\n",
      " [ 21  12  33 405  88 157 194  44  34  12]\n",
      " [ 32   4  68  64 556  30 113 100  32   1]\n",
      " [  8   4  42 282  85 404  94  58  18   5]\n",
      " [  5  10  32  54 100  11 767   5  14   2]\n",
      " [ 21   6   8  75  98  68  25 686   8   5]\n",
      " [ 74  37   2  29  20   4  16   6 796  16]\n",
      " [ 52 153   4  65  23   2  45  44 109 503]]\n"
     ]
    }
   ],
   "source": [
    "print(confusion_matrix(y_test,y_pre))"
   ]
  },
  {
   "cell_type": "code",
   "execution_count": null,
   "id": "cfc9beaa",
   "metadata": {},
   "outputs": [],
   "source": []
  },
  {
   "cell_type": "markdown",
   "id": "5f8da771",
   "metadata": {},
   "source": [
    "# VGG-16 Model"
   ]
  },
  {
   "cell_type": "code",
   "execution_count": 8,
   "id": "49ac54b0",
   "metadata": {},
   "outputs": [],
   "source": [
    "# 13 Convolution layer and 2 fully connected \n",
    "model = Sequential()\n",
    "model.add(Conv2D(input_shape= x_train.shape[1:],filters=64,kernel_size=(3,3),padding=\"same\", activation=\"relu\"))\n",
    "model.add(Conv2D(filters=64,kernel_size=(3,3),padding=\"same\", activation=\"relu\"))\n",
    "\n",
    "model.add(MaxPooling2D(pool_size=(2,2), padding=\"same\",strides=(2,2)))\n",
    "\n",
    "model.add(Conv2D(filters=128, kernel_size=(3,3), padding=\"same\", activation=\"relu\"))\n",
    "model.add(Conv2D(filters=128, kernel_size=(3,3), padding=\"same\", activation=\"relu\"))\n",
    "\n",
    "model.add(MaxPooling2D(pool_size=(2,2), padding=\"same\",strides=(2,2)))\n",
    "\n",
    "model.add(Conv2D(filters=256, kernel_size=(3,3), padding=\"same\", activation=\"relu\"))\n",
    "model.add(Conv2D(filters=256, kernel_size=(3,3), padding=\"same\", activation=\"relu\"))\n",
    "model.add(Conv2D(filters=256, kernel_size=(3,3), padding=\"same\", activation=\"relu\"))\n",
    "\n",
    "model.add(MaxPooling2D(pool_size=(2,2), padding=\"same\",strides=(2,2)))\n",
    "\n",
    "model.add(Conv2D(filters=512, kernel_size=(3,3), padding=\"same\", activation=\"relu\"))\n",
    "model.add(Conv2D(filters=512, kernel_size=(3,3), padding=\"same\", activation=\"relu\"))\n",
    "model.add(Conv2D(filters=512, kernel_size=(3,3), padding=\"same\", activation=\"relu\"))\n",
    "\n",
    "model.add(MaxPooling2D(pool_size=(2,2), padding=\"same\",strides=(2,2)))\n",
    "\n",
    "model.add(Conv2D(filters=512, kernel_size=(3,3), padding=\"same\", activation=\"relu\"))\n",
    "model.add(Conv2D(filters=512, kernel_size=(3,3), padding=\"same\", activation=\"relu\"))\n",
    "model.add(Conv2D(filters=512, kernel_size=(3,3), padding=\"same\", activation=\"relu\"))\n",
    "\n",
    "model.add(MaxPooling2D(pool_size=(2,2),strides=(2,2)))\n",
    "\n",
    "model.add(Flatten())\n",
    "model.add(Dense(units=4096,activation=\"relu\"))\n",
    "model.add(Dense(units=4096,activation=\"relu\"))\n",
    "\n",
    "model.add(Dense(units=10, activation=\"softmax\"))"
   ]
  },
  {
   "cell_type": "code",
   "execution_count": 9,
   "id": "dd921424",
   "metadata": {},
   "outputs": [
    {
     "name": "stdout",
     "output_type": "stream",
     "text": [
      "Epoch 1/5\n",
      "2500/2500 [==============================] - 1464s 585ms/step - loss: 2.3033 - accuracy: 0.0970\n",
      "Epoch 2/5\n",
      "2500/2500 [==============================] - 2172s 869ms/step - loss: 2.2992 - accuracy: 0.1076\n",
      "Epoch 3/5\n",
      "2500/2500 [==============================] - 1467s 587ms/step - loss: 2.3033 - accuracy: 0.0996\n",
      "Epoch 4/5\n",
      "2500/2500 [==============================] - 1576s 630ms/step - loss: 2.3034 - accuracy: 0.0979\n",
      "Epoch 5/5\n",
      "2500/2500 [==============================] - 1484s 593ms/step - loss: 2.2922 - accuracy: 0.1166\n",
      "313/313 [==============================] - 29s 91ms/step - loss: 2.3036 - accuracy: 0.1000\n",
      "the Accuracy = 55.00000014901161\n"
     ]
    }
   ],
   "source": [
    "\n",
    "optimize = SGD(learning_rate=0.05)\n",
    "model.compile(optimizer=optimize, loss=\"sparse_categorical_crossentropy\", metrics=[\"accuracy\"])\n",
    "model.fit(x_train, y_train, epochs=5 ,batch_size=20)\n",
    "loss, accuracy= model.evaluate(x_test, y_test)\n",
    "print( 'the Accuracy =' , accuracy*100)"
   ]
  },
  {
   "cell_type": "markdown",
   "id": "21529e97",
   "metadata": {},
   "source": [
    "# Prediction for for VGG-16 Model"
   ]
  },
  {
   "cell_type": "code",
   "execution_count": 10,
   "id": "0cfe6344",
   "metadata": {},
   "outputs": [
    {
     "name": "stdout",
     "output_type": "stream",
     "text": [
      "313/313 [==============================] - 29s 91ms/step\n"
     ]
    },
    {
     "data": {
      "text/plain": [
       "array([[0.09945872, 0.09859838, 0.10106259, ..., 0.10025483, 0.10249443,\n",
       "        0.09735675],\n",
       "       [0.09946029, 0.09859869, 0.10106175, ..., 0.10025474, 0.1024956 ,\n",
       "        0.09735764],\n",
       "       [0.09946091, 0.09859914, 0.10106127, ..., 0.10025466, 0.10249671,\n",
       "        0.09735827],\n",
       "       ...,\n",
       "       [0.09945676, 0.09859734, 0.10106382, ..., 0.10025502, 0.10249204,\n",
       "        0.09735547],\n",
       "       [0.09945954, 0.09859849, 0.10106213, ..., 0.10025473, 0.10249527,\n",
       "        0.09735736],\n",
       "       [0.09946018, 0.09859879, 0.10106179, ..., 0.10025465, 0.10249592,\n",
       "        0.09735769]], dtype=float32)"
      ]
     },
     "execution_count": 10,
     "metadata": {},
     "output_type": "execute_result"
    }
   ],
   "source": [
    "y_pred=model.predict(x_test)\n",
    "y_pre=np.argmax(y_pred,axis=1)  #The numpy.argmax() function returns indices of the max element of the array\n",
    "y_pred\n",
    "     "
   ]
  },
  {
   "cell_type": "markdown",
   "id": "b72cb6a8",
   "metadata": {},
   "source": [
    "# Classification_report for VGG-16 Model"
   ]
  },
  {
   "cell_type": "code",
   "execution_count": 11,
   "id": "7897601e",
   "metadata": {},
   "outputs": [
    {
     "name": "stdout",
     "output_type": "stream",
     "text": [
      "              precision    recall  f1-score   support\n",
      "\n",
      "           0       0.00      0.00      0.00      1000\n",
      "           1       0.00      0.00      0.00      1000\n",
      "           2       0.00      0.00      0.00      1000\n",
      "           3       0.00      0.00      0.00      1000\n",
      "           4       0.10      1.00      0.18      1000\n",
      "           5       0.00      0.00      0.00      1000\n",
      "           6       0.00      0.00      0.00      1000\n",
      "           7       0.00      0.00      0.00      1000\n",
      "           8       0.00      0.00      0.00      1000\n",
      "           9       0.00      0.00      0.00      1000\n",
      "\n",
      "    accuracy                           0.10     10000\n",
      "   macro avg       0.01      0.10      0.02     10000\n",
      "weighted avg       0.01      0.10      0.02     10000\n",
      "\n"
     ]
    },
    {
     "name": "stderr",
     "output_type": "stream",
     "text": [
      "C:\\Users\\smart\\Downloads\\Programs\\lib\\site-packages\\sklearn\\metrics\\_classification.py:1318: UndefinedMetricWarning: Precision and F-score are ill-defined and being set to 0.0 in labels with no predicted samples. Use `zero_division` parameter to control this behavior.\n",
      "  _warn_prf(average, modifier, msg_start, len(result))\n",
      "C:\\Users\\smart\\Downloads\\Programs\\lib\\site-packages\\sklearn\\metrics\\_classification.py:1318: UndefinedMetricWarning: Precision and F-score are ill-defined and being set to 0.0 in labels with no predicted samples. Use `zero_division` parameter to control this behavior.\n",
      "  _warn_prf(average, modifier, msg_start, len(result))\n",
      "C:\\Users\\smart\\Downloads\\Programs\\lib\\site-packages\\sklearn\\metrics\\_classification.py:1318: UndefinedMetricWarning: Precision and F-score are ill-defined and being set to 0.0 in labels with no predicted samples. Use `zero_division` parameter to control this behavior.\n",
      "  _warn_prf(average, modifier, msg_start, len(result))\n"
     ]
    }
   ],
   "source": [
    "from sklearn.metrics import f1_score,confusion_matrix,recall_score,precision_score\n",
    "from sklearn.metrics import classification_report\n",
    "print(classification_report(y_test,y_pre))"
   ]
  },
  {
   "cell_type": "markdown",
   "id": "1db84441",
   "metadata": {},
   "source": [
    "# Confusion_matrix for VGG-16 Model"
   ]
  },
  {
   "cell_type": "code",
   "execution_count": 12,
   "id": "981b0efa",
   "metadata": {},
   "outputs": [
    {
     "name": "stdout",
     "output_type": "stream",
     "text": [
      "[[   0    0    0    0 1000    0    0    0    0    0]\n",
      " [   0    0    0    0 1000    0    0    0    0    0]\n",
      " [   0    0    0    0 1000    0    0    0    0    0]\n",
      " [   0    0    0    0 1000    0    0    0    0    0]\n",
      " [   0    0    0    0 1000    0    0    0    0    0]\n",
      " [   0    0    0    0 1000    0    0    0    0    0]\n",
      " [   0    0    0    0 1000    0    0    0    0    0]\n",
      " [   0    0    0    0 1000    0    0    0    0    0]\n",
      " [   0    0    0    0 1000    0    0    0    0    0]\n",
      " [   0    0    0    0 1000    0    0    0    0    0]]\n"
     ]
    }
   ],
   "source": [
    "print(confusion_matrix(y_test,y_pre))"
   ]
  }
 ],
 "metadata": {
  "kernelspec": {
   "display_name": "Python 3 (ipykernel)",
   "language": "python",
   "name": "python3"
  },
  "language_info": {
   "codemirror_mode": {
    "name": "ipython",
    "version": 3
   },
   "file_extension": ".py",
   "mimetype": "text/x-python",
   "name": "python",
   "nbconvert_exporter": "python",
   "pygments_lexer": "ipython3",
   "version": "3.9.12"
  }
 },
 "nbformat": 4,
 "nbformat_minor": 5
}
