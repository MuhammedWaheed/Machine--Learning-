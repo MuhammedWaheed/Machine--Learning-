{
 "cells": [
  {
   "cell_type": "markdown",
   "id": "6f356dc9",
   "metadata": {
    "pycharm": {
     "name": "#%% md\n"
    }
   },
   "source": [
    "# importing libraries\n"
   ]
  },
  {
   "cell_type": "code",
   "execution_count": 32,
   "id": "d390598c",
   "metadata": {
    "pycharm": {
     "name": "#%%\n"
    }
   },
   "outputs": [],
   "source": [
    "import pandas as pd \n",
    "import numpy as np \n",
    "import matplotlib.pyplot as plt \n",
    "import seaborn as sns \n",
    "from sklearn.metrics import accuracy_score\n",
    "from sklearn.cluster import KMeans\n",
    "from sklearn.decomposition import PCA\n",
    "from fcmeans import FCM\n",
    "from sklearn.svm import SVC\n",
    "from sklearn.model_selection import train_test_split\n"
   ]
  },
  {
   "cell_type": "markdown",
   "id": "72e04bff",
   "metadata": {
    "pycharm": {
     "name": "#%% md\n"
    }
   },
   "source": [
    "# reading dataset"
   ]
  },
  {
   "cell_type": "code",
   "execution_count": 33,
   "id": "0bd1cdc8",
   "metadata": {
    "pycharm": {
     "name": "#%%\n"
    }
   },
   "outputs": [
    {
     "data": {
      "text/html": [
       "<div>\n",
       "<style scoped>\n",
       "    .dataframe tbody tr th:only-of-type {\n",
       "        vertical-align: middle;\n",
       "    }\n",
       "\n",
       "    .dataframe tbody tr th {\n",
       "        vertical-align: top;\n",
       "    }\n",
       "\n",
       "    .dataframe thead th {\n",
       "        text-align: right;\n",
       "    }\n",
       "</style>\n",
       "<table border=\"1\" class=\"dataframe\">\n",
       "  <thead>\n",
       "    <tr style=\"text-align: right;\">\n",
       "      <th></th>\n",
       "      <th>school</th>\n",
       "      <th>sex</th>\n",
       "      <th>age</th>\n",
       "      <th>address</th>\n",
       "      <th>famsize</th>\n",
       "      <th>Pstatus</th>\n",
       "      <th>Medu</th>\n",
       "      <th>Fedu</th>\n",
       "      <th>traveltime</th>\n",
       "      <th>studytime</th>\n",
       "      <th>...</th>\n",
       "      <th>freetime</th>\n",
       "      <th>goout</th>\n",
       "      <th>Dalc</th>\n",
       "      <th>Walc</th>\n",
       "      <th>health</th>\n",
       "      <th>absences</th>\n",
       "      <th>G1</th>\n",
       "      <th>G2</th>\n",
       "      <th>G3</th>\n",
       "      <th>pass</th>\n",
       "    </tr>\n",
       "  </thead>\n",
       "  <tbody>\n",
       "    <tr>\n",
       "      <th>0</th>\n",
       "      <td>1</td>\n",
       "      <td>1</td>\n",
       "      <td>18</td>\n",
       "      <td>1</td>\n",
       "      <td>0</td>\n",
       "      <td>0</td>\n",
       "      <td>4</td>\n",
       "      <td>4</td>\n",
       "      <td>2</td>\n",
       "      <td>2</td>\n",
       "      <td>...</td>\n",
       "      <td>3</td>\n",
       "      <td>4</td>\n",
       "      <td>1</td>\n",
       "      <td>1</td>\n",
       "      <td>3</td>\n",
       "      <td>6</td>\n",
       "      <td>5</td>\n",
       "      <td>6</td>\n",
       "      <td>6</td>\n",
       "      <td>0</td>\n",
       "    </tr>\n",
       "    <tr>\n",
       "      <th>1</th>\n",
       "      <td>1</td>\n",
       "      <td>1</td>\n",
       "      <td>17</td>\n",
       "      <td>1</td>\n",
       "      <td>0</td>\n",
       "      <td>1</td>\n",
       "      <td>1</td>\n",
       "      <td>1</td>\n",
       "      <td>1</td>\n",
       "      <td>2</td>\n",
       "      <td>...</td>\n",
       "      <td>3</td>\n",
       "      <td>3</td>\n",
       "      <td>1</td>\n",
       "      <td>1</td>\n",
       "      <td>3</td>\n",
       "      <td>4</td>\n",
       "      <td>5</td>\n",
       "      <td>5</td>\n",
       "      <td>6</td>\n",
       "      <td>0</td>\n",
       "    </tr>\n",
       "    <tr>\n",
       "      <th>2</th>\n",
       "      <td>1</td>\n",
       "      <td>1</td>\n",
       "      <td>15</td>\n",
       "      <td>1</td>\n",
       "      <td>1</td>\n",
       "      <td>1</td>\n",
       "      <td>1</td>\n",
       "      <td>1</td>\n",
       "      <td>1</td>\n",
       "      <td>2</td>\n",
       "      <td>...</td>\n",
       "      <td>3</td>\n",
       "      <td>2</td>\n",
       "      <td>2</td>\n",
       "      <td>3</td>\n",
       "      <td>3</td>\n",
       "      <td>10</td>\n",
       "      <td>7</td>\n",
       "      <td>8</td>\n",
       "      <td>10</td>\n",
       "      <td>1</td>\n",
       "    </tr>\n",
       "    <tr>\n",
       "      <th>3</th>\n",
       "      <td>1</td>\n",
       "      <td>1</td>\n",
       "      <td>15</td>\n",
       "      <td>1</td>\n",
       "      <td>0</td>\n",
       "      <td>1</td>\n",
       "      <td>4</td>\n",
       "      <td>2</td>\n",
       "      <td>1</td>\n",
       "      <td>3</td>\n",
       "      <td>...</td>\n",
       "      <td>2</td>\n",
       "      <td>2</td>\n",
       "      <td>1</td>\n",
       "      <td>1</td>\n",
       "      <td>5</td>\n",
       "      <td>2</td>\n",
       "      <td>15</td>\n",
       "      <td>14</td>\n",
       "      <td>15</td>\n",
       "      <td>1</td>\n",
       "    </tr>\n",
       "    <tr>\n",
       "      <th>4</th>\n",
       "      <td>1</td>\n",
       "      <td>1</td>\n",
       "      <td>16</td>\n",
       "      <td>1</td>\n",
       "      <td>0</td>\n",
       "      <td>1</td>\n",
       "      <td>3</td>\n",
       "      <td>3</td>\n",
       "      <td>1</td>\n",
       "      <td>2</td>\n",
       "      <td>...</td>\n",
       "      <td>3</td>\n",
       "      <td>2</td>\n",
       "      <td>1</td>\n",
       "      <td>2</td>\n",
       "      <td>5</td>\n",
       "      <td>4</td>\n",
       "      <td>6</td>\n",
       "      <td>10</td>\n",
       "      <td>10</td>\n",
       "      <td>1</td>\n",
       "    </tr>\n",
       "  </tbody>\n",
       "</table>\n",
       "<p>5 rows × 30 columns</p>\n",
       "</div>"
      ],
      "text/plain": [
       "   school  sex  age  address  famsize  Pstatus  Medu  Fedu  traveltime  \\\n",
       "0       1    1   18        1        0        0     4     4           2   \n",
       "1       1    1   17        1        0        1     1     1           1   \n",
       "2       1    1   15        1        1        1     1     1           1   \n",
       "3       1    1   15        1        0        1     4     2           1   \n",
       "4       1    1   16        1        0        1     3     3           1   \n",
       "\n",
       "   studytime  ...  freetime  goout  Dalc  Walc  health  absences  G1  G2  G3  \\\n",
       "0          2  ...         3      4     1     1       3         6   5   6   6   \n",
       "1          2  ...         3      3     1     1       3         4   5   5   6   \n",
       "2          2  ...         3      2     2     3       3        10   7   8  10   \n",
       "3          3  ...         2      2     1     1       5         2  15  14  15   \n",
       "4          2  ...         3      2     1     2       5         4   6  10  10   \n",
       "\n",
       "   pass  \n",
       "0     0  \n",
       "1     0  \n",
       "2     1  \n",
       "3     1  \n",
       "4     1  \n",
       "\n",
       "[5 rows x 30 columns]"
      ]
     },
     "execution_count": 33,
     "metadata": {},
     "output_type": "execute_result"
    }
   ],
   "source": [
    "df=pd.read_csv(\"E:/Data/student-mat-pass-or-fail.csv\")\n",
    "df.head(5)\n",
    "# df.iloc[:,0:15]\n",
    "# df.iloc[:,15:29]"
   ]
  },
  {
   "cell_type": "code",
   "execution_count": 34,
   "id": "63e4c84e",
   "metadata": {
    "pycharm": {
     "name": "#%%\n"
    }
   },
   "outputs": [
    {
     "data": {
      "text/plain": [
       "(395, 30)"
      ]
     },
     "execution_count": 34,
     "metadata": {},
     "output_type": "execute_result"
    }
   ],
   "source": [
    "df.shape"
   ]
  },
  {
   "cell_type": "markdown",
   "id": "9b61be11",
   "metadata": {
    "pycharm": {
     "name": "#%% md\n"
    }
   },
   "source": [
    "# applying Standardscaler( ) on some features"
   ]
  },
  {
   "cell_type": "code",
   "execution_count": 35,
   "id": "ff087dcd",
   "metadata": {
    "pycharm": {
     "name": "#%%\n"
    }
   },
   "outputs": [
    {
     "data": {
      "application/javascript": [
       "\n",
       "        if (window._pyforest_update_imports_cell) { window._pyforest_update_imports_cell('from sklearn.preprocessing import StandardScaler'); }\n",
       "    "
      ],
      "text/plain": [
       "<IPython.core.display.Javascript object>"
      ]
     },
     "metadata": {},
     "output_type": "display_data"
    }
   ],
   "source": [
    "df = df.copy()\n",
    "col_names  = [\"age\",\"Medu\",\"Fedu\",\"traveltime\",\"studytime\",\"absences\",\"G1\",\"G2\",\"G3\",\"famrel\",\"freetime\",\"goout\",\"health\",\"Walc\",\"Dalc\"]\n",
    "features = df[col_names]\n",
    "scaler = StandardScaler(copy=True,with_mean=True,with_std=True).fit(features.values)\n",
    "features = scaler.transform(features.values)\n",
    "df[col_names] = features\n"
   ]
  },
  {
   "cell_type": "code",
   "execution_count": 36,
   "id": "947fc9f1",
   "metadata": {
    "pycharm": {
     "name": "#%%\n"
    }
   },
   "outputs": [
    {
     "data": {
      "text/html": [
       "<div>\n",
       "<style scoped>\n",
       "    .dataframe tbody tr th:only-of-type {\n",
       "        vertical-align: middle;\n",
       "    }\n",
       "\n",
       "    .dataframe tbody tr th {\n",
       "        vertical-align: top;\n",
       "    }\n",
       "\n",
       "    .dataframe thead th {\n",
       "        text-align: right;\n",
       "    }\n",
       "</style>\n",
       "<table border=\"1\" class=\"dataframe\">\n",
       "  <thead>\n",
       "    <tr style=\"text-align: right;\">\n",
       "      <th></th>\n",
       "      <th>school</th>\n",
       "      <th>sex</th>\n",
       "      <th>age</th>\n",
       "      <th>address</th>\n",
       "      <th>famsize</th>\n",
       "      <th>Pstatus</th>\n",
       "      <th>Medu</th>\n",
       "      <th>Fedu</th>\n",
       "      <th>traveltime</th>\n",
       "      <th>studytime</th>\n",
       "      <th>...</th>\n",
       "      <th>freetime</th>\n",
       "      <th>goout</th>\n",
       "      <th>Dalc</th>\n",
       "      <th>Walc</th>\n",
       "      <th>health</th>\n",
       "      <th>absences</th>\n",
       "      <th>G1</th>\n",
       "      <th>G2</th>\n",
       "      <th>G3</th>\n",
       "      <th>pass</th>\n",
       "    </tr>\n",
       "  </thead>\n",
       "  <tbody>\n",
       "    <tr>\n",
       "      <th>count</th>\n",
       "      <td>395.000000</td>\n",
       "      <td>395.000000</td>\n",
       "      <td>3.950000e+02</td>\n",
       "      <td>395.000000</td>\n",
       "      <td>395.000000</td>\n",
       "      <td>395.000000</td>\n",
       "      <td>3.950000e+02</td>\n",
       "      <td>3.950000e+02</td>\n",
       "      <td>3.950000e+02</td>\n",
       "      <td>3.950000e+02</td>\n",
       "      <td>...</td>\n",
       "      <td>3.950000e+02</td>\n",
       "      <td>3.950000e+02</td>\n",
       "      <td>3.950000e+02</td>\n",
       "      <td>3.950000e+02</td>\n",
       "      <td>3.950000e+02</td>\n",
       "      <td>3.950000e+02</td>\n",
       "      <td>3.950000e+02</td>\n",
       "      <td>3.950000e+02</td>\n",
       "      <td>3.950000e+02</td>\n",
       "      <td>395.000000</td>\n",
       "    </tr>\n",
       "    <tr>\n",
       "      <th>mean</th>\n",
       "      <td>0.883544</td>\n",
       "      <td>0.526582</td>\n",
       "      <td>1.411529e-15</td>\n",
       "      <td>0.777215</td>\n",
       "      <td>0.288608</td>\n",
       "      <td>0.896203</td>\n",
       "      <td>8.432074e-18</td>\n",
       "      <td>-1.264811e-16</td>\n",
       "      <td>-2.203582e-16</td>\n",
       "      <td>-2.709506e-16</td>\n",
       "      <td>...</td>\n",
       "      <td>1.028713e-16</td>\n",
       "      <td>-2.062345e-17</td>\n",
       "      <td>8.769357e-17</td>\n",
       "      <td>-3.091760e-17</td>\n",
       "      <td>1.169248e-16</td>\n",
       "      <td>1.914783e-17</td>\n",
       "      <td>-5.424634e-17</td>\n",
       "      <td>-1.262000e-16</td>\n",
       "      <td>-2.119261e-16</td>\n",
       "      <td>0.670886</td>\n",
       "    </tr>\n",
       "    <tr>\n",
       "      <th>std</th>\n",
       "      <td>0.321177</td>\n",
       "      <td>0.499926</td>\n",
       "      <td>1.001268e+00</td>\n",
       "      <td>0.416643</td>\n",
       "      <td>0.453690</td>\n",
       "      <td>0.305384</td>\n",
       "      <td>1.001268e+00</td>\n",
       "      <td>1.001268e+00</td>\n",
       "      <td>1.001268e+00</td>\n",
       "      <td>1.001268e+00</td>\n",
       "      <td>...</td>\n",
       "      <td>1.001268e+00</td>\n",
       "      <td>1.001268e+00</td>\n",
       "      <td>1.001268e+00</td>\n",
       "      <td>1.001268e+00</td>\n",
       "      <td>1.001268e+00</td>\n",
       "      <td>1.001268e+00</td>\n",
       "      <td>1.001268e+00</td>\n",
       "      <td>1.001268e+00</td>\n",
       "      <td>1.001268e+00</td>\n",
       "      <td>0.470487</td>\n",
       "    </tr>\n",
       "    <tr>\n",
       "      <th>min</th>\n",
       "      <td>0.000000</td>\n",
       "      <td>0.000000</td>\n",
       "      <td>-1.330954e+00</td>\n",
       "      <td>0.000000</td>\n",
       "      <td>0.000000</td>\n",
       "      <td>0.000000</td>\n",
       "      <td>-2.514630e+00</td>\n",
       "      <td>-2.320084e+00</td>\n",
       "      <td>-6.432495e-01</td>\n",
       "      <td>-1.235351e+00</td>\n",
       "      <td>...</td>\n",
       "      <td>-2.240828e+00</td>\n",
       "      <td>-1.896683e+00</td>\n",
       "      <td>-5.406987e-01</td>\n",
       "      <td>-1.003789e+00</td>\n",
       "      <td>-1.839649e+00</td>\n",
       "      <td>-7.142362e-01</td>\n",
       "      <td>-2.385787e+00</td>\n",
       "      <td>-2.851920e+00</td>\n",
       "      <td>-2.276226e+00</td>\n",
       "      <td>0.000000</td>\n",
       "    </tr>\n",
       "    <tr>\n",
       "      <th>25%</th>\n",
       "      <td>1.000000</td>\n",
       "      <td>0.000000</td>\n",
       "      <td>-5.462869e-01</td>\n",
       "      <td>1.000000</td>\n",
       "      <td>0.000000</td>\n",
       "      <td>1.000000</td>\n",
       "      <td>-6.853872e-01</td>\n",
       "      <td>-4.798568e-01</td>\n",
       "      <td>-6.432495e-01</td>\n",
       "      <td>-1.235351e+00</td>\n",
       "      <td>...</td>\n",
       "      <td>-2.360102e-01</td>\n",
       "      <td>-9.972953e-01</td>\n",
       "      <td>-5.406987e-01</td>\n",
       "      <td>-1.003789e+00</td>\n",
       "      <td>-3.992895e-01</td>\n",
       "      <td>-7.142362e-01</td>\n",
       "      <td>-8.774869e-01</td>\n",
       "      <td>-4.562264e-01</td>\n",
       "      <td>-5.278366e-01</td>\n",
       "      <td>0.000000</td>\n",
       "    </tr>\n",
       "    <tr>\n",
       "      <th>50%</th>\n",
       "      <td>1.000000</td>\n",
       "      <td>1.000000</td>\n",
       "      <td>2.383798e-01</td>\n",
       "      <td>1.000000</td>\n",
       "      <td>0.000000</td>\n",
       "      <td>1.000000</td>\n",
       "      <td>2.292342e-01</td>\n",
       "      <td>-4.798568e-01</td>\n",
       "      <td>-6.432495e-01</td>\n",
       "      <td>-4.228585e-02</td>\n",
       "      <td>...</td>\n",
       "      <td>-2.360102e-01</td>\n",
       "      <td>-9.790798e-02</td>\n",
       "      <td>-5.406987e-01</td>\n",
       "      <td>-2.263446e-01</td>\n",
       "      <td>3.208902e-01</td>\n",
       "      <td>-2.137958e-01</td>\n",
       "      <td>2.749306e-02</td>\n",
       "      <td>7.615005e-02</td>\n",
       "      <td>1.278095e-01</td>\n",
       "      <td>1.000000</td>\n",
       "    </tr>\n",
       "    <tr>\n",
       "      <th>75%</th>\n",
       "      <td>1.000000</td>\n",
       "      <td>1.000000</td>\n",
       "      <td>1.023046e+00</td>\n",
       "      <td>1.000000</td>\n",
       "      <td>1.000000</td>\n",
       "      <td>1.000000</td>\n",
       "      <td>1.143856e+00</td>\n",
       "      <td>4.402569e-01</td>\n",
       "      <td>7.922508e-01</td>\n",
       "      <td>-4.228585e-02</td>\n",
       "      <td>...</td>\n",
       "      <td>7.663987e-01</td>\n",
       "      <td>8.014793e-01</td>\n",
       "      <td>5.833854e-01</td>\n",
       "      <td>5.511000e-01</td>\n",
       "      <td>1.041070e+00</td>\n",
       "      <td>2.866447e-01</td>\n",
       "      <td>6.308130e-01</td>\n",
       "      <td>6.085265e-01</td>\n",
       "      <td>7.834555e-01</td>\n",
       "      <td>1.000000</td>\n",
       "    </tr>\n",
       "    <tr>\n",
       "      <th>max</th>\n",
       "      <td>1.000000</td>\n",
       "      <td>1.000000</td>\n",
       "      <td>4.161713e+00</td>\n",
       "      <td>1.000000</td>\n",
       "      <td>1.000000</td>\n",
       "      <td>1.000000</td>\n",
       "      <td>1.143856e+00</td>\n",
       "      <td>1.360371e+00</td>\n",
       "      <td>3.663251e+00</td>\n",
       "      <td>2.343844e+00</td>\n",
       "      <td>...</td>\n",
       "      <td>1.768808e+00</td>\n",
       "      <td>1.700867e+00</td>\n",
       "      <td>3.955638e+00</td>\n",
       "      <td>2.105989e+00</td>\n",
       "      <td>1.041070e+00</td>\n",
       "      <td>8.669022e+00</td>\n",
       "      <td>2.440773e+00</td>\n",
       "      <td>2.205656e+00</td>\n",
       "      <td>2.094748e+00</td>\n",
       "      <td>1.000000</td>\n",
       "    </tr>\n",
       "  </tbody>\n",
       "</table>\n",
       "<p>8 rows × 30 columns</p>\n",
       "</div>"
      ],
      "text/plain": [
       "           school         sex           age     address     famsize  \\\n",
       "count  395.000000  395.000000  3.950000e+02  395.000000  395.000000   \n",
       "mean     0.883544    0.526582  1.411529e-15    0.777215    0.288608   \n",
       "std      0.321177    0.499926  1.001268e+00    0.416643    0.453690   \n",
       "min      0.000000    0.000000 -1.330954e+00    0.000000    0.000000   \n",
       "25%      1.000000    0.000000 -5.462869e-01    1.000000    0.000000   \n",
       "50%      1.000000    1.000000  2.383798e-01    1.000000    0.000000   \n",
       "75%      1.000000    1.000000  1.023046e+00    1.000000    1.000000   \n",
       "max      1.000000    1.000000  4.161713e+00    1.000000    1.000000   \n",
       "\n",
       "          Pstatus          Medu          Fedu    traveltime     studytime  \\\n",
       "count  395.000000  3.950000e+02  3.950000e+02  3.950000e+02  3.950000e+02   \n",
       "mean     0.896203  8.432074e-18 -1.264811e-16 -2.203582e-16 -2.709506e-16   \n",
       "std      0.305384  1.001268e+00  1.001268e+00  1.001268e+00  1.001268e+00   \n",
       "min      0.000000 -2.514630e+00 -2.320084e+00 -6.432495e-01 -1.235351e+00   \n",
       "25%      1.000000 -6.853872e-01 -4.798568e-01 -6.432495e-01 -1.235351e+00   \n",
       "50%      1.000000  2.292342e-01 -4.798568e-01 -6.432495e-01 -4.228585e-02   \n",
       "75%      1.000000  1.143856e+00  4.402569e-01  7.922508e-01 -4.228585e-02   \n",
       "max      1.000000  1.143856e+00  1.360371e+00  3.663251e+00  2.343844e+00   \n",
       "\n",
       "       ...      freetime         goout          Dalc          Walc  \\\n",
       "count  ...  3.950000e+02  3.950000e+02  3.950000e+02  3.950000e+02   \n",
       "mean   ...  1.028713e-16 -2.062345e-17  8.769357e-17 -3.091760e-17   \n",
       "std    ...  1.001268e+00  1.001268e+00  1.001268e+00  1.001268e+00   \n",
       "min    ... -2.240828e+00 -1.896683e+00 -5.406987e-01 -1.003789e+00   \n",
       "25%    ... -2.360102e-01 -9.972953e-01 -5.406987e-01 -1.003789e+00   \n",
       "50%    ... -2.360102e-01 -9.790798e-02 -5.406987e-01 -2.263446e-01   \n",
       "75%    ...  7.663987e-01  8.014793e-01  5.833854e-01  5.511000e-01   \n",
       "max    ...  1.768808e+00  1.700867e+00  3.955638e+00  2.105989e+00   \n",
       "\n",
       "             health      absences            G1            G2            G3  \\\n",
       "count  3.950000e+02  3.950000e+02  3.950000e+02  3.950000e+02  3.950000e+02   \n",
       "mean   1.169248e-16  1.914783e-17 -5.424634e-17 -1.262000e-16 -2.119261e-16   \n",
       "std    1.001268e+00  1.001268e+00  1.001268e+00  1.001268e+00  1.001268e+00   \n",
       "min   -1.839649e+00 -7.142362e-01 -2.385787e+00 -2.851920e+00 -2.276226e+00   \n",
       "25%   -3.992895e-01 -7.142362e-01 -8.774869e-01 -4.562264e-01 -5.278366e-01   \n",
       "50%    3.208902e-01 -2.137958e-01  2.749306e-02  7.615005e-02  1.278095e-01   \n",
       "75%    1.041070e+00  2.866447e-01  6.308130e-01  6.085265e-01  7.834555e-01   \n",
       "max    1.041070e+00  8.669022e+00  2.440773e+00  2.205656e+00  2.094748e+00   \n",
       "\n",
       "             pass  \n",
       "count  395.000000  \n",
       "mean     0.670886  \n",
       "std      0.470487  \n",
       "min      0.000000  \n",
       "25%      0.000000  \n",
       "50%      1.000000  \n",
       "75%      1.000000  \n",
       "max      1.000000  \n",
       "\n",
       "[8 rows x 30 columns]"
      ]
     },
     "execution_count": 36,
     "metadata": {},
     "output_type": "execute_result"
    }
   ],
   "source": [
    "df.describe()"
   ]
  },
  {
   "cell_type": "code",
   "execution_count": 37,
   "id": "32592333",
   "metadata": {
    "pycharm": {
     "name": "#%%\n"
    }
   },
   "outputs": [
    {
     "data": {
      "text/plain": [
       "school        0\n",
       "sex           0\n",
       "age           0\n",
       "address       0\n",
       "famsize       0\n",
       "Pstatus       0\n",
       "Medu          0\n",
       "Fedu          0\n",
       "traveltime    0\n",
       "studytime     0\n",
       "failures      0\n",
       "schoolsup     0\n",
       "famsup        0\n",
       "paid          0\n",
       "activities    0\n",
       "nursery       0\n",
       "higher        0\n",
       "internet      0\n",
       "romantic      0\n",
       "famrel        0\n",
       "freetime      0\n",
       "goout         0\n",
       "Dalc          0\n",
       "Walc          0\n",
       "health        0\n",
       "absences      0\n",
       "G1            0\n",
       "G2            0\n",
       "G3            0\n",
       "pass          0\n",
       "dtype: int64"
      ]
     },
     "execution_count": 37,
     "metadata": {},
     "output_type": "execute_result"
    }
   ],
   "source": [
    "df.isna().sum()"
   ]
  },
  {
   "cell_type": "markdown",
   "id": "41d82490",
   "metadata": {
    "pycharm": {
     "name": "#%% md\n"
    }
   },
   "source": [
    "# Declare feature vector and target variable"
   ]
  },
  {
   "cell_type": "code",
   "execution_count": 38,
   "id": "06095a53",
   "metadata": {
    "pycharm": {
     "name": "#%%\n"
    }
   },
   "outputs": [
    {
     "data": {
      "text/plain": [
       "0      0\n",
       "1      0\n",
       "2      1\n",
       "3      1\n",
       "4      1\n",
       "      ..\n",
       "390    0\n",
       "391    1\n",
       "392    0\n",
       "393    1\n",
       "394    0\n",
       "Name: pass, Length: 395, dtype: int64"
      ]
     },
     "execution_count": 38,
     "metadata": {},
     "output_type": "execute_result"
    }
   ],
   "source": [
    "X=df.drop(columns=[\"pass\"])\n",
    "y=df[\"pass\"]\n",
    "y"
   ]
  },
  {
   "cell_type": "markdown",
   "id": "06456168",
   "metadata": {
    "pycharm": {
     "name": "#%% md\n"
    }
   },
   "source": [
    "#  PCA to reduce the number of dimensions so that we can visualize the results using a 2D Scatter plot"
   ]
  },
  {
   "cell_type": "code",
   "execution_count": 39,
   "id": "4ce30a28",
   "metadata": {
    "pycharm": {
     "name": "#%%\n"
    }
   },
   "outputs": [
    {
     "data": {
      "text/plain": [
       "(395, 2)"
      ]
     },
     "execution_count": 39,
     "metadata": {},
     "output_type": "execute_result"
    }
   ],
   "source": [
    "pca = PCA(2)\n",
    "df = pca.fit_transform(X)\n",
    " \n",
    "df.shape"
   ]
  },
  {
   "cell_type": "markdown",
   "id": "c9d17a8e",
   "metadata": {
    "pycharm": {
     "name": "#%% md\n"
    }
   },
   "source": [
    "# Elbow Method to choose the best number of clusters"
   ]
  },
  {
   "cell_type": "code",
   "execution_count": 9,
   "id": "1a677259",
   "metadata": {
    "pycharm": {
     "name": "#%%\n"
    }
   },
   "outputs": [
    {
     "name": "stderr",
     "output_type": "stream",
     "text": [
      "C:\\Users\\smart\\Downloads\\Programs\\lib\\site-packages\\sklearn\\cluster\\_kmeans.py:1036: UserWarning: KMeans is known to have a memory leak on Windows with MKL, when there are less chunks than available threads. You can avoid it by setting the environment variable OMP_NUM_THREADS=2.\n",
      "  warnings.warn(\n"
     ]
    },
    {
     "data": {
      "image/png": "[encoded data removed]",
      "text/plain": [
       "<Figure size 432x288 with 1 Axes>"
      ]
     },
     "metadata": {
      "needs_background": "light"
     },
     "output_type": "display_data"
    }
   ],
   "source": [
    "inertia_values = []\n",
    "for i in range(1, 11):\n",
    "    kmeans = KMeans(n_clusters = i, init = 'k-means++', max_iter = 50, n_init = 10)\n",
    "    kmeans.fit(X)\n",
    "    inertia_values.append(kmeans.inertia_)\n",
    "plt.plot(range(1, 11), inertia_values)\n",
    "plt.title('The Elbow Method')\n",
    "plt.xlabel('Number of clusters')\n",
    "plt.ylabel('inertia_values')\n",
    "plt.show()\n"
   ]
  },
  {
   "cell_type": "markdown",
   "id": "eee5fcee",
   "metadata": {
    "pycharm": {
     "name": "#%% md\n"
    }
   },
   "source": [
    "# K-Means Model"
   ]
  },
  {
   "cell_type": "code",
   "execution_count": 40,
   "id": "1f586450",
   "metadata": {
    "pycharm": {
     "name": "#%%\n"
    }
   },
   "outputs": [
    {
     "name": "stdout",
     "output_type": "stream",
     "text": [
      "Result: 329 out of 395 samples were correctly labeled.\n",
      "Accuracy_score : 83.29113924050633\n"
     ]
    }
   ],
   "source": [
    "\n",
    "kmeans = KMeans(n_clusters= 2,random_state=47)\n",
    " \n",
    "#predict the labels of clusters.\n",
    "label = kmeans.fit_predict(df)\n",
    " \n",
    "correct_labels = sum(y == label)\n",
    "\n",
    "print(\"Result: %d out of %d samples were correctly labeled.\" % (correct_labels, y.size))\n",
    "\n",
    "\n",
    "KM_accuracy=correct_labels/float(y.size)*100\n",
    "\n",
    "print(\"Accuracy_score :\",KM_accuracy)\n",
    "\n"
   ]
  },
  {
   "cell_type": "markdown",
   "id": "1da1eb29",
   "metadata": {
    "pycharm": {
     "name": "#%% md\n"
    }
   },
   "source": [
    "# Visualization"
   ]
  },
  {
   "cell_type": "code",
   "execution_count": 41,
   "id": "deb9e214",
   "metadata": {
    "pycharm": {
     "name": "#%%\n"
    }
   },
   "outputs": [
    {
     "data": {
      "image/png": "[encoded data removed]",
      "text/plain": [
       "<Figure size 432x288 with 1 Axes>"
      ]
     },
     "metadata": {
      "needs_background": "light"
     },
     "output_type": "display_data"
    }
   ],
   "source": [
    "#Getting unique labels\n",
    " \n",
    "u_labels = np.unique(label)\n",
    " \n",
    "#plotting the results:\n",
    " \n",
    "for i in u_labels:\n",
    "    plt.scatter(df[label == i , 0] , df[label == i , 1] , label = i)\n",
    "plt.legend()\n",
    "plt.show()"
   ]
  },
  {
   "cell_type": "code",
   "execution_count": 42,
   "id": "935cf0f9",
   "metadata": {
    "pycharm": {
     "name": "#%%\n"
    }
   },
   "outputs": [
    {
     "data": {
      "image/png": "[encoded data removed]",
      "text/plain": [
       "<Figure size 432x288 with 1 Axes>"
      ]
     },
     "metadata": {
      "needs_background": "light"
     },
     "output_type": "display_data"
    }
   ],
   "source": [
    "#Getting the Centroids\n",
    "centroids = kmeans.cluster_centers_\n",
    "u_labels = np.unique(label)\n",
    " \n",
    "#plotting the results:\n",
    " \n",
    "for i in u_labels:\n",
    "    plt.scatter(df[label == i , 0] , df[label == i , 1] , label = i)\n",
    "plt.scatter(centroids[:,0] , centroids[:,1] , s = 120, color = \"black\")\n",
    "plt.legend()\n",
    "plt.show()"
   ]
  },
  {
   "cell_type": "markdown",
   "id": "4f0ca7ef",
   "metadata": {
    "pycharm": {
     "name": "#%% md\n"
    }
   },
   "source": [
    "# The Number of Samples belongs to each class"
   ]
  },
  {
   "cell_type": "code",
   "execution_count": 43,
   "id": "c1f0ba1a",
   "metadata": {
    "pycharm": {
     "name": "#%%\n"
    }
   },
   "outputs": [
    {
     "data": {
      "text/plain": [
       "labels\n",
       "1         229\n",
       "0         166\n",
       "dtype: int64"
      ]
     },
     "execution_count": 43,
     "metadata": {},
     "output_type": "execute_result"
    }
   ],
   "source": [
    "label=pd.DataFrame(label)\n",
    "label.columns=[\"labels\"]\n",
    "label.value_counts()\n"
   ]
  },
  {
   "cell_type": "code",
   "execution_count": 44,
   "id": "d9c88054",
   "metadata": {
    "pycharm": {
     "name": "#%%\n"
    }
   },
   "outputs": [
    {
     "data": {
      "image/png": "[encoded data removed]",
      "text/plain": [
       "<Figure size 432x288 with 1 Axes>"
      ]
     },
     "metadata": {
      "needs_background": "light"
     },
     "output_type": "display_data"
    }
   ],
   "source": [
    "import seaborn as sns \n",
    "sns.countplot(data=label,x=\"labels\").set(title='Number of samples belongs to each cluster in K-Means ')\n",
    "plt.show()"
   ]
  },
  {
   "cell_type": "markdown",
   "id": "78421d30",
   "metadata": {
    "pycharm": {
     "name": "#%% md\n"
    }
   },
   "source": [
    "# Calculating Details"
   ]
  },
  {
   "cell_type": "code",
   "execution_count": 15,
   "id": "7e929313",
   "metadata": {
    "pycharm": {
     "name": "#%%\n"
    }
   },
   "outputs": [
    {
     "name": "stdout",
     "output_type": "stream",
     "text": [
      "KMeansModel centroids :\n",
      " \n",
      "  [[ 1.7060788  -0.01441533]\n",
      " [-1.23672088  0.01044954]]\n"
     ]
    }
   ],
   "source": [
    "print('KMeansModel centroids :\\n \\n ' ,kmeans.cluster_centers_)"
   ]
  },
  {
   "cell_type": "code",
   "execution_count": 45,
   "id": "36152e08",
   "metadata": {
    "pycharm": {
     "name": "#%%\n"
    }
   },
   "outputs": [
    {
     "name": "stdout",
     "output_type": "stream",
     "text": [
      "KMeansModel labels are :\n",
      "  [0 0 0 1 1 1 1 0 1 1 1 1 1 1 1 1 1 1 0 1 1 1 1 1 1 0 1 1 1 0 1 1 1 1 1 0 1\n",
      " 1 1 1 0 1 1 1 0 1 1 1 1 0 1 1 0 1 1 0 1 1 1 1 1 0 0 1 1 1 1 0 0 1 1 1 0 1\n",
      " 1 1 1 1 0 0 1 1 0 1 0 0 0 1 1 0 0 1 0 1 1 0 1 0 1 1 0 1 1 0 1 1 1 1 1 1 1\n",
      " 1 1 1 0 1 1 1 0 1 1 1 1 1 0 1 1 0 0 1 0 0 0 1 0 0 0 0 1 1 0 0 1 1 0 0 0 1\n",
      " 0 0 0 0 1 0 1 1 1 0 1 0 0 0 0 0 0 1 0 1 0 1 0 1 1 0 1 0 1 0 0 1 0 1 1 0 1\n",
      " 1 1 1 0 0 1 0 0 0 1 1 1 0 1 1 1 0 0 0 1 0 0 1 0 0 0 1 1 0 1 1 0 0 0 1 0 0\n",
      " 1 0 1 0 1 1 0 1 1 1 1 1 0 1 1 1 1 0 1 1 0 1 0 1 1 0 0 1 0 0 0 0 0 0 1 1 1\n",
      " 0 1 1 1 1 0 1 0 1 0 0 0 1 0 1 1 0 0 0 0 1 0 0 1 0 0 0 1 1 1 1 1 1 1 1 1 1\n",
      " 0 0 1 1 1 1 1 1 1 1 1 0 1 0 0 1 0 1 1 1 0 1 1 1 1 1 1 1 1 1 1 0 1 1 0 1 0\n",
      " 0 0 1 1 0 1 0 0 0 1 0 1 1 1 0 1 0 0 1 0 0 1 0 1 1 0 1 1 0 1 1 1 0 1 0 0 1\n",
      " 0 0 1 0 1 0 1 0 1 0 1 0 1 0 0 0 0 0 0 0 0 1 0 0 0]\n"
     ]
    }
   ],
   "source": [
    "print('KMeansModel labels are :\\n ' , kmeans.labels_)"
   ]
  },
  {
   "cell_type": "code",
   "execution_count": 46,
   "id": "5095bdd2",
   "metadata": {
    "pycharm": {
     "name": "#%%\n"
    }
   },
   "outputs": [
    {
     "name": "stdout",
     "output_type": "stream",
     "text": [
      "KMeansModel intertia is : 1308.2205390587249\n"
     ]
    }
   ],
   "source": [
    "print('KMeansModel intertia is :' , kmeans.inertia_)"
   ]
  },
  {
   "cell_type": "markdown",
   "id": "80a9c7e9",
   "metadata": {
    "pycharm": {
     "name": "#%% md\n"
    }
   },
   "source": [
    "# C-Means Model "
   ]
  },
  {
   "cell_type": "code",
   "execution_count": 47,
   "id": "bfb0bee8",
   "metadata": {
    "pycharm": {
     "name": "#%%\n"
    }
   },
   "outputs": [
    {
     "data": {
      "text/plain": [
       "array([[0.75138148, 0.24861852],\n",
       "       [0.87723279, 0.12276721],\n",
       "       [0.78408871, 0.21591129],\n",
       "       [0.09271703, 0.90728297],\n",
       "       [0.55697463, 0.44302537],\n",
       "       [0.05490999, 0.94509001],\n",
       "       [0.26929928, 0.73070072],\n",
       "       [0.64543809, 0.35456191],\n",
       "       [0.09614072, 0.90385928],\n",
       "       [0.11679304, 0.88320696],\n",
       "       [0.31783291, 0.68216709],\n",
       "       [0.41187221, 0.58812779],\n",
       "       [0.0937736 , 0.9062264 ],\n",
       "       [0.24835512, 0.75164488],\n",
       "       [0.12887468, 0.87112532],\n",
       "       [0.09146218, 0.90853782],\n",
       "       [0.0672058 , 0.9327942 ],\n",
       "       [0.5026859 , 0.4973141 ],\n",
       "       [0.84190664, 0.15809336],\n",
       "       [0.49132796, 0.50867204],\n",
       "       [0.10060245, 0.89939755],\n",
       "       [0.10876209, 0.89123791],\n",
       "       [0.13027454, 0.86972546],\n",
       "       [0.45466776, 0.54533224],\n",
       "       [0.3628873 , 0.6371127 ],\n",
       "       [0.72434634, 0.27565366],\n",
       "       [0.29091913, 0.70908087],\n",
       "       [0.26214857, 0.73785143],\n",
       "       [0.18249843, 0.81750157],\n",
       "       [0.54210641, 0.45789359],\n",
       "       [0.38190666, 0.61809334],\n",
       "       [0.07638662, 0.92361338],\n",
       "       [0.09105822, 0.90894178],\n",
       "       [0.28204441, 0.71795559],\n",
       "       [0.15671145, 0.84328855],\n",
       "       [0.66137243, 0.33862757],\n",
       "       [0.05360413, 0.94639587],\n",
       "       [0.14215966, 0.85784034],\n",
       "       [0.12262119, 0.87737881],\n",
       "       [0.20678251, 0.79321749],\n",
       "       [0.73461117, 0.26538883],\n",
       "       [0.30499536, 0.69500464],\n",
       "       [0.05889092, 0.94110908],\n",
       "       [0.50810819, 0.49189181],\n",
       "       [0.81903943, 0.18096057],\n",
       "       [0.47995078, 0.52004922],\n",
       "       [0.46727817, 0.53272183],\n",
       "       [0.08906843, 0.91093157],\n",
       "       [0.07389424, 0.92610576],\n",
       "       [0.5981529 , 0.4018471 ],\n",
       "       [0.43000874, 0.56999126],\n",
       "       [0.10308686, 0.89691314],\n",
       "       [0.62601637, 0.37398363],\n",
       "       [0.48786167, 0.51213833],\n",
       "       [0.46878299, 0.53121701],\n",
       "       [0.66740493, 0.33259507],\n",
       "       [0.06554217, 0.93445783],\n",
       "       [0.08121386, 0.91878614],\n",
       "       [0.55492817, 0.44507183],\n",
       "       [0.05343324, 0.94656676],\n",
       "       [0.41788406, 0.58211594],\n",
       "       [0.69669342, 0.30330658],\n",
       "       [0.64183961, 0.35816039],\n",
       "       [0.54601111, 0.45398889],\n",
       "       [0.46989004, 0.53010996],\n",
       "       [0.15242683, 0.84757317],\n",
       "       [0.42600526, 0.57399474],\n",
       "       [0.71406668, 0.28593332],\n",
       "       [0.70504859, 0.29495141],\n",
       "       [0.20913023, 0.79086977],\n",
       "       [0.16621731, 0.83378269],\n",
       "       [0.28675968, 0.71324032],\n",
       "       [0.87379827, 0.12620173],\n",
       "       [0.31282258, 0.68717742],\n",
       "       [0.49626481, 0.50373519],\n",
       "       [0.44845445, 0.55154555],\n",
       "       [0.40966067, 0.59033933],\n",
       "       [0.34928542, 0.65071458],\n",
       "       [0.71150652, 0.28849348],\n",
       "       [0.77071705, 0.22928295],\n",
       "       [0.35610076, 0.64389924],\n",
       "       [0.283758  , 0.716242  ],\n",
       "       [0.79375939, 0.20624061],\n",
       "       [0.12047427, 0.87952573],\n",
       "       [0.71690636, 0.28309364],\n",
       "       [0.70897925, 0.29102075],\n",
       "       [0.87842352, 0.12157648],\n",
       "       [0.11500753, 0.88499247],\n",
       "       [0.54011358, 0.45988642],\n",
       "       [0.6520552 , 0.3479448 ],\n",
       "       [0.73599351, 0.26400649],\n",
       "       [0.17479284, 0.82520716],\n",
       "       [0.8764195 , 0.1235805 ],\n",
       "       [0.29321965, 0.70678035],\n",
       "       [0.21037433, 0.78962567],\n",
       "       [0.55783514, 0.44216486],\n",
       "       [0.15369007, 0.84630993],\n",
       "       [0.73775362, 0.26224638],\n",
       "       [0.17376783, 0.82623217],\n",
       "       [0.50548109, 0.49451891],\n",
       "       [0.69515216, 0.30484784],\n",
       "       [0.04470368, 0.95529632],\n",
       "       [0.15520301, 0.84479699],\n",
       "       [0.73198416, 0.26801584],\n",
       "       [0.09746955, 0.90253045],\n",
       "       [0.25757677, 0.74242323],\n",
       "       [0.5144941 , 0.4855059 ],\n",
       "       [0.05005208, 0.94994792],\n",
       "       [0.4843642 , 0.5156358 ],\n",
       "       [0.10246348, 0.89753652],\n",
       "       [0.11468587, 0.88531413],\n",
       "       [0.43036724, 0.56963276],\n",
       "       [0.3491285 , 0.6508715 ],\n",
       "       [0.12988326, 0.87011674],\n",
       "       [0.59930212, 0.40069788],\n",
       "       [0.0646161 , 0.9353839 ],\n",
       "       [0.11026829, 0.88973171],\n",
       "       [0.14348548, 0.85651452],\n",
       "       [0.79032395, 0.20967605],\n",
       "       [0.11596546, 0.88403454],\n",
       "       [0.19956106, 0.80043894],\n",
       "       [0.19828233, 0.80171767],\n",
       "       [0.14025593, 0.85974407],\n",
       "       [0.29673799, 0.70326201],\n",
       "       [0.77112548, 0.22887452],\n",
       "       [0.36419609, 0.63580391],\n",
       "       [0.34475999, 0.65524001],\n",
       "       [0.76668774, 0.23331226],\n",
       "       [0.90781398, 0.09218602],\n",
       "       [0.23671518, 0.76328482],\n",
       "       [0.71081774, 0.28918226],\n",
       "       [0.8487944 , 0.1512056 ],\n",
       "       [0.60469733, 0.39530267],\n",
       "       [0.35744599, 0.64255401],\n",
       "       [0.69807545, 0.30192455],\n",
       "       [0.63126709, 0.36873291],\n",
       "       [0.80113825, 0.19886175],\n",
       "       [0.83175973, 0.16824027],\n",
       "       [0.53078035, 0.46921965],\n",
       "       [0.08733378, 0.91266622],\n",
       "       [0.56045793, 0.43954207],\n",
       "       [0.79255753, 0.20744247],\n",
       "       [0.17801093, 0.82198907],\n",
       "       [0.49559177, 0.50440823],\n",
       "       [0.8607628 , 0.1392372 ],\n",
       "       [0.60391311, 0.39608689],\n",
       "       [0.77440917, 0.22559083],\n",
       "       [0.41925131, 0.58074869],\n",
       "       [0.70836183, 0.29163817],\n",
       "       [0.72912   , 0.27088   ],\n",
       "       [0.85145799, 0.14854201],\n",
       "       [0.61932074, 0.38067926],\n",
       "       [0.48569601, 0.51430399],\n",
       "       [0.83362002, 0.16637998],\n",
       "       [0.22534473, 0.77465527],\n",
       "       [0.51054331, 0.48945669],\n",
       "       [0.46586506, 0.53413494],\n",
       "       [0.78444861, 0.21555139],\n",
       "       [0.24337575, 0.75662425],\n",
       "       [0.60061775, 0.39938225],\n",
       "       [0.88801729, 0.11198271],\n",
       "       [0.85776252, 0.14223748],\n",
       "       [0.90686256, 0.09313744],\n",
       "       [0.65770201, 0.34229799],\n",
       "       [0.78008032, 0.21991968],\n",
       "       [0.43002721, 0.56997279],\n",
       "       [0.78074445, 0.21925555],\n",
       "       [0.04946298, 0.95053702],\n",
       "       [0.77911481, 0.22088519],\n",
       "       [0.04087707, 0.95912293],\n",
       "       [0.82345467, 0.17654533],\n",
       "       [0.28923778, 0.71076222],\n",
       "       [0.20889155, 0.79110845],\n",
       "       [0.80904926, 0.19095074],\n",
       "       [0.47855415, 0.52144585],\n",
       "       [0.68829754, 0.31170246],\n",
       "       [0.47633316, 0.52366684],\n",
       "       [0.90820836, 0.09179164],\n",
       "       [0.72211982, 0.27788018],\n",
       "       [0.2245984 , 0.7754016 ],\n",
       "       [0.6598555 , 0.3401445 ],\n",
       "       [0.05041705, 0.94958295],\n",
       "       [0.11936782, 0.88063218],\n",
       "       [0.55595953, 0.44404047],\n",
       "       [0.3314234 , 0.6685766 ],\n",
       "       [0.29143534, 0.70856466],\n",
       "       [0.489924  , 0.510076  ],\n",
       "       [0.15511219, 0.84488781],\n",
       "       [0.79597041, 0.20402959],\n",
       "       [0.73426808, 0.26573192],\n",
       "       [0.1268208 , 0.8731792 ],\n",
       "       [0.7787765 , 0.2212235 ],\n",
       "       [0.84493791, 0.15506209],\n",
       "       [0.71029949, 0.28970051],\n",
       "       [0.13866365, 0.86133635],\n",
       "       [0.07910046, 0.92089954],\n",
       "       [0.09202514, 0.90797486],\n",
       "       [0.73525367, 0.26474633],\n",
       "       [0.20573264, 0.79426736],\n",
       "       [0.32110222, 0.67889778],\n",
       "       [0.16066392, 0.83933608],\n",
       "       [0.68124912, 0.31875088],\n",
       "       [0.77583777, 0.22416223],\n",
       "       [0.84249095, 0.15750905],\n",
       "       [0.50099706, 0.49900294],\n",
       "       [0.61751329, 0.38248671],\n",
       "       [0.80812229, 0.19187771],\n",
       "       [0.27858321, 0.72141679],\n",
       "       [0.80111079, 0.19888921],\n",
       "       [0.63474097, 0.36525903],\n",
       "       [0.59953875, 0.40046125],\n",
       "       [0.45325901, 0.54674099],\n",
       "       [0.20306264, 0.79693736],\n",
       "       [0.93187053, 0.06812947],\n",
       "       [0.39365016, 0.60634984],\n",
       "       [0.17716824, 0.82283176],\n",
       "       [0.79253379, 0.20746621],\n",
       "       [0.87932622, 0.12067378],\n",
       "       [0.89271277, 0.10728723],\n",
       "       [0.50627776, 0.49372224],\n",
       "       [0.89861687, 0.10138313],\n",
       "       [0.87449542, 0.12550458],\n",
       "       [0.12740646, 0.87259354],\n",
       "       [0.59110804, 0.40889196],\n",
       "       [0.07493184, 0.92506816],\n",
       "       [0.7871045 , 0.2128955 ],\n",
       "       [0.09812867, 0.90187133],\n",
       "       [0.24584385, 0.75415615],\n",
       "       [0.71937982, 0.28062018],\n",
       "       [0.5003737 , 0.4996263 ],\n",
       "       [0.10186541, 0.89813459],\n",
       "       [0.4280554 , 0.5719446 ],\n",
       "       [0.48683322, 0.51316678],\n",
       "       [0.17428073, 0.82571927],\n",
       "       [0.78777509, 0.21222491],\n",
       "       [0.47759033, 0.52240967],\n",
       "       [0.50255816, 0.49744184],\n",
       "       [0.41983068, 0.58016932],\n",
       "       [0.46979216, 0.53020784],\n",
       "       [0.85528462, 0.14471538],\n",
       "       [0.47842485, 0.52157515],\n",
       "       [0.35113931, 0.64886069],\n",
       "       [0.78034834, 0.21965166],\n",
       "       [0.12435201, 0.87564799],\n",
       "       [0.86843089, 0.13156911],\n",
       "       [0.20677004, 0.79322996],\n",
       "       [0.25350639, 0.74649361],\n",
       "       [0.71351646, 0.28648354],\n",
       "       [0.90640774, 0.09359226],\n",
       "       [0.40893964, 0.59106036],\n",
       "       [0.90079224, 0.09920776],\n",
       "       [0.63672626, 0.36327374],\n",
       "       [0.85520037, 0.14479963],\n",
       "       [0.81366285, 0.18633715],\n",
       "       [0.7154758 , 0.2845242 ],\n",
       "       [0.90592197, 0.09407803],\n",
       "       [0.12533084, 0.87466916],\n",
       "       [0.29697173, 0.70302827],\n",
       "       [0.24829704, 0.75170296],\n",
       "       [0.59407948, 0.40592052],\n",
       "       [0.16269554, 0.83730446],\n",
       "       [0.52790713, 0.47209287],\n",
       "       [0.18822435, 0.81177565],\n",
       "       [0.41910799, 0.58089201],\n",
       "       [0.76713128, 0.23286872],\n",
       "       [0.27678051, 0.72321949],\n",
       "       [0.77833479, 0.22166521],\n",
       "       [0.34901884, 0.65098116],\n",
       "       [0.62649269, 0.37350731],\n",
       "       [0.89828891, 0.10171109],\n",
       "       [0.78558648, 0.21441352],\n",
       "       [0.27591279, 0.72408721],\n",
       "       [0.64442441, 0.35557559],\n",
       "       [0.32191586, 0.67808414],\n",
       "       [0.40753466, 0.59246534],\n",
       "       [0.60052725, 0.39947275],\n",
       "       [0.52576132, 0.47423868],\n",
       "       [0.61863565, 0.38136435],\n",
       "       [0.59784988, 0.40215012],\n",
       "       [0.42221869, 0.57778131],\n",
       "       [0.74030733, 0.25969267],\n",
       "       [0.76246241, 0.23753759],\n",
       "       [0.41719873, 0.58280127],\n",
       "       [0.80641009, 0.19358991],\n",
       "       [0.6929751 , 0.3070249 ],\n",
       "       [0.60948517, 0.39051483],\n",
       "       [0.09313346, 0.90686654],\n",
       "       [0.32152916, 0.67847084],\n",
       "       [0.25310313, 0.74689687],\n",
       "       [0.09523403, 0.90476597],\n",
       "       [0.35617619, 0.64382381],\n",
       "       [0.03912883, 0.96087117],\n",
       "       [0.46952232, 0.53047768],\n",
       "       [0.18751607, 0.81248393],\n",
       "       [0.15631183, 0.84368817],\n",
       "       [0.19367239, 0.80632761],\n",
       "       [0.70273837, 0.29726163],\n",
       "       [0.66899644, 0.33100356],\n",
       "       [0.09468608, 0.90531392],\n",
       "       [0.24790195, 0.75209805],\n",
       "       [0.27383695, 0.72616305],\n",
       "       [0.35223353, 0.64776647],\n",
       "       [0.06603886, 0.93396114],\n",
       "       [0.11608692, 0.88391308],\n",
       "       [0.24242564, 0.75757436],\n",
       "       [0.1663234 , 0.8336766 ],\n",
       "       [0.23920081, 0.76079919],\n",
       "       [0.60721176, 0.39278824],\n",
       "       [0.32346696, 0.67653304],\n",
       "       [0.72917069, 0.27082931],\n",
       "       [0.86212891, 0.13787109],\n",
       "       [0.46175637, 0.53824363],\n",
       "       [0.59631663, 0.40368337],\n",
       "       [0.48952694, 0.51047306],\n",
       "       [0.42585836, 0.57414164],\n",
       "       [0.45255942, 0.54744058],\n",
       "       [0.84101117, 0.15898883],\n",
       "       [0.42742412, 0.57257588],\n",
       "       [0.47688007, 0.52311993],\n",
       "       [0.43277481, 0.56722519],\n",
       "       [0.18931497, 0.81068503],\n",
       "       [0.52638656, 0.47361344],\n",
       "       [0.39540589, 0.60459411],\n",
       "       [0.28978187, 0.71021813],\n",
       "       [0.32757307, 0.67242693],\n",
       "       [0.23169912, 0.76830088],\n",
       "       [0.36646902, 0.63353098],\n",
       "       [0.69216915, 0.30783085],\n",
       "       [0.38420508, 0.61579492],\n",
       "       [0.05820255, 0.94179745],\n",
       "       [0.73605398, 0.26394602],\n",
       "       [0.13024414, 0.86975586],\n",
       "       [0.83949403, 0.16050597],\n",
       "       [0.83824817, 0.16175183],\n",
       "       [0.74087538, 0.25912462],\n",
       "       [0.16097038, 0.83902962],\n",
       "       [0.37043545, 0.62956455],\n",
       "       [0.87140412, 0.12859588],\n",
       "       [0.1230795 , 0.8769205 ],\n",
       "       [0.69845052, 0.30154948],\n",
       "       [0.6275731 , 0.3724269 ],\n",
       "       [0.66769438, 0.33230562],\n",
       "       [0.09318293, 0.90681707],\n",
       "       [0.80898839, 0.19101161],\n",
       "       [0.39344224, 0.60655776],\n",
       "       [0.254879  , 0.745121  ],\n",
       "       [0.07527758, 0.92472242],\n",
       "       [0.54755287, 0.45244713],\n",
       "       [0.05078751, 0.94921249],\n",
       "       [0.64136544, 0.35863456],\n",
       "       [0.82429239, 0.17570761],\n",
       "       [0.28201799, 0.71798201],\n",
       "       [0.89607279, 0.10392721],\n",
       "       [0.86860468, 0.13139532],\n",
       "       [0.40197517, 0.59802483],\n",
       "       [0.55438243, 0.44561757],\n",
       "       [0.11113361, 0.88886639],\n",
       "       [0.46270378, 0.53729622],\n",
       "       [0.74838376, 0.25161624],\n",
       "       [0.22398071, 0.77601929],\n",
       "       [0.49779801, 0.50220199],\n",
       "       [0.67842385, 0.32157615],\n",
       "       [0.42019657, 0.57980343],\n",
       "       [0.14965425, 0.85034575],\n",
       "       [0.49902943, 0.50097057],\n",
       "       [0.80279743, 0.19720257],\n",
       "       [0.18623083, 0.81376917],\n",
       "       [0.77963623, 0.22036377],\n",
       "       [0.57452696, 0.42547304],\n",
       "       [0.4313031 , 0.5686969 ],\n",
       "       [0.75902351, 0.24097649],\n",
       "       [0.5865117 , 0.4134883 ],\n",
       "       [0.31536276, 0.68463724],\n",
       "       [0.83933447, 0.16066553],\n",
       "       [0.14431468, 0.85568532],\n",
       "       [0.71293755, 0.28706245],\n",
       "       [0.305993  , 0.694007  ],\n",
       "       [0.59195299, 0.40804701],\n",
       "       [0.15417112, 0.84582888],\n",
       "       [0.66756888, 0.33243112],\n",
       "       [0.18995298, 0.81004702],\n",
       "       [0.91419223, 0.08580777],\n",
       "       [0.39503899, 0.60496101],\n",
       "       [0.89084195, 0.10915805],\n",
       "       [0.83264351, 0.16735649],\n",
       "       [0.70770514, 0.29229486],\n",
       "       [0.78318672, 0.21681328],\n",
       "       [0.80742427, 0.19257573],\n",
       "       [0.72130754, 0.27869246],\n",
       "       [0.74829871, 0.25170129],\n",
       "       [0.74985007, 0.25014993],\n",
       "       [0.45825387, 0.54174613],\n",
       "       [0.76364334, 0.23635666],\n",
       "       [0.62191653, 0.37808347],\n",
       "       [0.81962165, 0.18037835]])"
      ]
     },
     "execution_count": 47,
     "metadata": {},
     "output_type": "execute_result"
    }
   ],
   "source": [
    "CM=FCM(n_clusters=2,random_state=0,max_iter=100,m=1.3)\n",
    "CM.fit(X.to_numpy())\n",
    "centers=CM.centers\n",
    "pred_CM = CM.soft_predict(X.to_numpy()) #soft\n",
    "pred_CM# Fuzzy values (membership function)\n",
    "\n",
    "\n",
    "\n",
    "\n",
    "\n"
   ]
  },
  {
   "cell_type": "markdown",
   "id": "1d443799",
   "metadata": {
    "pycharm": {
     "name": "#%% md\n"
    }
   },
   "source": [
    "# applying alpha _cut"
   ]
  },
  {
   "cell_type": "code",
   "execution_count": 48,
   "id": "ca90c73e",
   "metadata": {
    "pycharm": {
     "name": "#%%\n"
    }
   },
   "outputs": [],
   "source": [
    "def alph_cut(alpha,y_fuzzy):\n",
    "  label=[]\n",
    "  memberships_length=len(y_fuzzy)\n",
    "  for i in range(memberships_length):\n",
    "    if (alpha<=y_fuzzy[i][0]):\n",
    "      label.append(0)\n",
    "    else:\n",
    "      label.append(1)\n",
    "  return label\n"
   ]
  },
  {
   "cell_type": "markdown",
   "id": "11a57748",
   "metadata": {
    "pycharm": {
     "name": "#%% md\n"
    }
   },
   "source": [
    "# at alpha_cut = .2"
   ]
  },
  {
   "cell_type": "code",
   "execution_count": 49,
   "id": "0aac7275",
   "metadata": {
    "pycharm": {
     "name": "#%%\n"
    }
   },
   "outputs": [
    {
     "name": "stdout",
     "output_type": "stream",
     "text": [
      "Result: 222 out of 395 samples were correctly labeled.\n",
      "Accuracy_score : 56.20253164556962\n"
     ]
    }
   ],
   "source": [
    "predictied=alph_cut(.2,pred_CM)\n",
    "correct_labels = sum(y == predictied)\n",
    "\n",
    "print(\"Result: %d out of %d samples were correctly labeled.\" % (correct_labels, y.size))\n",
    "\n",
    "\n",
    "CM_accuracy=correct_labels/float(y.size)*100\n",
    "\n",
    "print(\"Accuracy_score :\",CM_accuracy)\n"
   ]
  },
  {
   "cell_type": "markdown",
   "id": "bff503be",
   "metadata": {
    "pycharm": {
     "name": "#%% md\n"
    }
   },
   "source": [
    "# at alpha_cut = .3"
   ]
  },
  {
   "cell_type": "code",
   "execution_count": 50,
   "id": "7ca4d8d2",
   "metadata": {
    "pycharm": {
     "name": "#%%\n"
    }
   },
   "outputs": [
    {
     "name": "stdout",
     "output_type": "stream",
     "text": [
      "Result: 262 out of 395 samples were correctly labeled.\n",
      "Accuracy_score : 66.32911392405063\n"
     ]
    }
   ],
   "source": [
    "predictied=alph_cut(.3,pred_CM)\n",
    "\n",
    "correct_labels = sum(y == predictied)\n",
    "\n",
    "print(\"Result: %d out of %d samples were correctly labeled.\" % (correct_labels, y.size))\n",
    "\n",
    "\n",
    "CM_accuracy=correct_labels/float(y.size)*100\n",
    "\n",
    "print(\"Accuracy_score :\",CM_accuracy)"
   ]
  },
  {
   "cell_type": "markdown",
   "id": "f1a64245",
   "metadata": {
    "pycharm": {
     "name": "#%% md\n"
    }
   },
   "source": [
    "# at alpha_cut = .4"
   ]
  },
  {
   "cell_type": "code",
   "execution_count": 51,
   "id": "6c6b2c11",
   "metadata": {
    "pycharm": {
     "name": "#%%\n"
    }
   },
   "outputs": [
    {
     "name": "stdout",
     "output_type": "stream",
     "text": [
      "Result: 286 out of 395 samples were correctly labeled.\n",
      "Accuracy_score : 72.40506329113924\n"
     ]
    }
   ],
   "source": [
    "predictied=alph_cut(.4,pred_CM)\n",
    "\n",
    "correct_labels = sum(y == predictied)\n",
    "\n",
    "print(\"Result: %d out of %d samples were correctly labeled.\" % (correct_labels, y.size))\n",
    "\n",
    "\n",
    "CM_accuracy=correct_labels/float(y.size)*100\n",
    "\n",
    "print(\"Accuracy_score :\",CM_accuracy)"
   ]
  },
  {
   "cell_type": "markdown",
   "id": "af8f532f",
   "metadata": {
    "pycharm": {
     "name": "#%% md\n"
    }
   },
   "source": [
    "# at alpha_cut = .6"
   ]
  },
  {
   "cell_type": "code",
   "execution_count": 52,
   "id": "b274679c",
   "metadata": {
    "pycharm": {
     "name": "#%%\n"
    }
   },
   "outputs": [
    {
     "name": "stdout",
     "output_type": "stream",
     "text": [
      "Result: 326 out of 395 samples were correctly labeled.\n",
      "Accuracy_score : 82.53164556962025\n"
     ]
    }
   ],
   "source": [
    "predictied=alph_cut(.6,pred_CM)\n",
    "\n",
    "correct_labels = sum(y == predictied)\n",
    "\n",
    "print(\"Result: %d out of %d samples were correctly labeled.\" % (correct_labels, y.size))\n",
    "\n",
    "\n",
    "CM_accuracy=correct_labels/float(y.size)*100\n",
    "\n",
    "print(\"Accuracy_score :\",CM_accuracy)"
   ]
  },
  {
   "cell_type": "markdown",
   "id": "966453e6",
   "metadata": {
    "pycharm": {
     "name": "#%% md\n"
    }
   },
   "source": [
    "# at alpha_cut = .8"
   ]
  },
  {
   "cell_type": "code",
   "execution_count": 53,
   "id": "f7777643",
   "metadata": {
    "pycharm": {
     "name": "#%%\n"
    }
   },
   "outputs": [
    {
     "name": "stdout",
     "output_type": "stream",
     "text": [
      "Result: 312 out of 395 samples were correctly labeled.\n",
      "Accuracy_score : 78.9873417721519\n"
     ]
    }
   ],
   "source": [
    "predictied=alph_cut(.8,pred_CM)\n",
    "\n",
    "correct_labels = sum(y == predictied)\n",
    "\n",
    "print(\"Result: %d out of %d samples were correctly labeled.\" % (correct_labels, y.size))\n",
    "\n",
    "\n",
    "CM_accuracy=correct_labels/float(y.size)*100\n",
    "\n",
    "print(\"Accuracy_score :\",CM_accuracy)"
   ]
  },
  {
   "cell_type": "markdown",
   "id": "d5e5f706",
   "metadata": {
    "pycharm": {
     "name": "#%% md\n"
    }
   },
   "source": [
    "# at alpha_cut = .5"
   ]
  },
  {
   "cell_type": "code",
   "execution_count": 56,
   "id": "902d491a",
   "metadata": {
    "pycharm": {
     "name": "#%%\n"
    }
   },
   "outputs": [
    {
     "name": "stdout",
     "output_type": "stream",
     "text": [
      "Result: 333 out of 395 samples were correctly labeled.\n",
      "Accuracy_score : 84.30379746835443\n"
     ]
    },
    {
     "data": {
      "text/plain": [
       "labels\n",
       "1         213\n",
       "0         182\n",
       "dtype: int64"
      ]
     },
     "execution_count": 56,
     "metadata": {},
     "output_type": "execute_result"
    }
   ],
   "source": [
    "predictied=alph_cut(.7,pred_CM)\n",
    "\n",
    "correct_labels = sum(y == predictied)\n",
    "\n",
    "print(\"Result: %d out of %d samples were correctly labeled.\" % (correct_labels, y.size))\n",
    "\n",
    "\n",
    "CM_accuracy=correct_labels/float(y.size)*100\n",
    "\n",
    "print(\"Accuracy_score :\",CM_accuracy)\n",
    "n=alph_cut(.5,pred_CM)\n",
    "n=pd.DataFrame(n)\n",
    "n.columns=[\"labels\"]\n",
    "n.value_counts()"
   ]
  },
  {
   "cell_type": "code",
   "execution_count": 57,
   "id": "b897a330",
   "metadata": {
    "pycharm": {
     "name": "#%%\n"
    }
   },
   "outputs": [
    {
     "data": {
      "image/png": "[encoded data removed]",
      "text/plain": [
       "<Figure size 432x288 with 1 Axes>"
      ]
     },
     "metadata": {
      "needs_background": "light"
     },
     "output_type": "display_data"
    }
   ],
   "source": [
    "import seaborn as sns \n",
    "sns.countplot(data=n,x=\"labels\").set(title='Number of samples belongs to each cluster in C-Means ')\n",
    "plt.show()"
   ]
  },
  {
   "cell_type": "markdown",
   "id": "26274246",
   "metadata": {
    "pycharm": {
     "name": "#%% md\n"
    }
   },
   "source": [
    "# Support Vector Machine Model "
   ]
  },
  {
   "cell_type": "code",
   "execution_count": 58,
   "id": "d9918fdd",
   "metadata": {
    "pycharm": {
     "name": "#%%\n"
    }
   },
   "outputs": [],
   "source": [
    "#Create training and test split\n",
    "X_train, X_test, y_train, y_test = train_test_split(X, y,test_size=0.33, random_state=47)\n",
    "               "
   ]
  },
  {
   "cell_type": "code",
   "execution_count": 59,
   "id": "6bfbf394",
   "metadata": {
    "pycharm": {
     "name": "#%%\n"
    }
   },
   "outputs": [
    {
     "data": {
      "application/javascript": [
       "\n",
       "        if (window._pyforest_update_imports_cell) { window._pyforest_update_imports_cell('from sklearn.preprocessing import StandardScaler'); }\n",
       "    "
      ],
      "text/plain": [
       "<IPython.core.display.Javascript object>"
      ]
     },
     "metadata": {},
     "output_type": "display_data"
    }
   ],
   "source": [
    "sc = StandardScaler()\n",
    "sc.fit(X_train)\n",
    "X_train= sc.transform(X_train)\n",
    "X_test = sc.transform(X_test)"
   ]
  },
  {
   "cell_type": "code",
   "execution_count": 60,
   "id": "8916316d",
   "metadata": {
    "pycharm": {
     "name": "#%%\n"
    }
   },
   "outputs": [
    {
     "data": {
      "text/plain": [
       "array([[ 0.35805744,  0.91986621, -0.53859356, ..., -0.82931209,\n",
       "        -0.17125129, -0.31725632],\n",
       "       [ 0.35805744,  0.91986621, -1.31985015, ..., -0.82931209,\n",
       "        -0.69391419, -0.98551962],\n",
       "       [ 0.35805744,  0.91986621,  1.02391962, ...,  0.06188896,\n",
       "        -0.17125129, -0.09450188],\n",
       "       ...,\n",
       "       [ 0.35805744, -1.08711461,  0.24266303, ...,  0.06188896,\n",
       "        -0.17125129, -0.09450188],\n",
       "       [-2.79284801, -1.08711461,  2.5864328 , ..., -0.53224507,\n",
       "        -0.43258274, -0.31725632],\n",
       "       [ 0.35805744,  0.91986621, -1.31985015, ...,  0.06188896,\n",
       "        -2.78456579, -2.32204622]])"
      ]
     },
     "execution_count": 60,
     "metadata": {},
     "output_type": "execute_result"
    }
   ],
   "source": [
    "X_train"
   ]
  },
  {
   "cell_type": "code",
   "execution_count": 61,
   "id": "70f9797c",
   "metadata": {
    "pycharm": {
     "name": "#%%\n"
    }
   },
   "outputs": [
    {
     "name": "stdout",
     "output_type": "stream",
     "text": [
      "Accuracy score :  94.65648854961832\n"
     ]
    }
   ],
   "source": [
    "\n",
    "# Instantiate the Support Vector Classifier (SVC)\n",
    "svc = SVC(C=1.0, random_state=47, kernel='linear') \n",
    "\n",
    "# Fit the model\n",
    "svc.fit(X_train, y_train)\n",
    "\n",
    "# Make the predictions\n",
    "y_predict = svc.predict(X_test)\n",
    "\n",
    "# Measure the performance\n",
    "SVM_accuracy=accuracy_score(y_test, y_predict)*100\n",
    "print(\"Accuracy score : \",SVM_accuracy)"
   ]
  },
  {
   "cell_type": "markdown",
   "id": "ce6e6e99",
   "metadata": {
    "pycharm": {
     "name": "#%% md\n"
    }
   },
   "source": [
    "# Conclusion"
   ]
  },
  {
   "cell_type": "code",
   "execution_count": 62,
   "id": "22574f9e",
   "metadata": {
    "pycharm": {
     "name": "#%%\n"
    }
   },
   "outputs": [
    {
     "data": {
      "text/html": [
       "<div>\n",
       "<style scoped>\n",
       "    .dataframe tbody tr th:only-of-type {\n",
       "        vertical-align: middle;\n",
       "    }\n",
       "\n",
       "    .dataframe tbody tr th {\n",
       "        vertical-align: top;\n",
       "    }\n",
       "\n",
       "    .dataframe thead th {\n",
       "        text-align: right;\n",
       "    }\n",
       "</style>\n",
       "<table border=\"1\" class=\"dataframe\">\n",
       "  <thead>\n",
       "    <tr style=\"text-align: right;\">\n",
       "      <th></th>\n",
       "      <th>Accuracy_score</th>\n",
       "    </tr>\n",
       "  </thead>\n",
       "  <tbody>\n",
       "    <tr>\n",
       "      <th>SVM</th>\n",
       "      <td>94.656489</td>\n",
       "    </tr>\n",
       "    <tr>\n",
       "      <th>Fuzzy C-Means</th>\n",
       "      <td>84.303797</td>\n",
       "    </tr>\n",
       "    <tr>\n",
       "      <th>K-Means</th>\n",
       "      <td>83.291139</td>\n",
       "    </tr>\n",
       "  </tbody>\n",
       "</table>\n",
       "</div>"
      ],
      "text/plain": [
       "               Accuracy_score\n",
       "SVM                 94.656489\n",
       "Fuzzy C-Means       84.303797\n",
       "K-Means             83.291139"
      ]
     },
     "execution_count": 62,
     "metadata": {},
     "output_type": "execute_result"
    }
   ],
   "source": [
    "Models=[\"K-Means\",\"Fuzzy C-Means\",\"SVM\"]\n",
    "model_data = [KM_accuracy,CM_accuracy,SVM_accuracy]\n",
    "cols = [\"Accuracy_score\"]\n",
    "compare=pd.DataFrame(data=model_data , index= Models , columns= cols)\n",
    "compare.sort_values(ascending= False , by = ['Accuracy_score'])"
   ]
  },
  {
   "cell_type": "code",
   "execution_count": null,
   "id": "d3a6397e",
   "metadata": {
    "pycharm": {
     "name": "#%%\n"
    }
   },
   "outputs": [],
   "source": []
  },
  {
   "cell_type": "code",
   "execution_count": null,
   "id": "20d80984",
   "metadata": {
    "pycharm": {
     "name": "#%%\n"
    }
   },
   "outputs": [],
   "source": []
  },
  {
   "cell_type": "code",
   "execution_count": null,
   "id": "be6fdacf",
   "metadata": {
    "pycharm": {
     "name": "#%%\n"
    }
   },
   "outputs": [],
   "source": []
  }
 ],
 "metadata": {
  "kernelspec": {
   "display_name": "Python 3 (ipykernel)",
   "language": "python",
   "name": "python3"
  },
  "language_info": {
   "codemirror_mode": {
    "name": "ipython",
    "version": 3
   },
   "file_extension": ".py",
   "mimetype": "text/x-python",
   "name": "python",
   "nbconvert_exporter": "python",
   "pygments_lexer": "ipython3",
   "version": "3.9.12"
  }
 },
 "nbformat": 4,
 "nbformat_minor": 5
}